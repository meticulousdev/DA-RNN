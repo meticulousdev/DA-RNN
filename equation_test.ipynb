{
 "cells": [
  {
   "cell_type": "code",
   "execution_count": 1,
   "metadata": {},
   "outputs": [],
   "source": [
    "import tensorflow as tf\n",
    "import tensorflow.keras.backend as K\n",
    "\n",
    "from tensorflow import keras\n",
    "from tensorflow.keras.layers import Dense, Permute"
   ]
  },
  {
   "cell_type": "code",
   "execution_count": 2,
   "metadata": {},
   "outputs": [
    {
     "name": "stdout",
     "output_type": "stream",
     "text": [
      "2.9.0\n",
      "tf.Tensor(42, shape=(), dtype=int32)\n",
      "Metal device set to: Apple M1\n",
      "\n",
      "systemMemory: 16.00 GB\n",
      "maxCacheSize: 5.33 GB\n",
      "\n"
     ]
    },
    {
     "name": "stderr",
     "output_type": "stream",
     "text": [
      "2023-01-29 22:22:17.607538: I tensorflow/core/common_runtime/pluggable_device/pluggable_device_factory.cc:305] Could not identify NUMA node of platform GPU ID 0, defaulting to 0. Your kernel may not have been built with NUMA support.\n",
      "2023-01-29 22:22:17.607621: I tensorflow/core/common_runtime/pluggable_device/pluggable_device_factory.cc:271] Created TensorFlow device (/job:localhost/replica:0/task:0/device:GPU:0 with 0 MB memory) -> physical PluggableDevice (device: 0, name: METAL, pci bus id: <undefined>)\n"
     ]
    }
   ],
   "source": [
    "print(tf.__version__)\n",
    "print()\n",
    "print(tf.constant(42))"
   ]
  },
  {
   "cell_type": "code",
   "execution_count": 3,
   "metadata": {},
   "outputs": [
    {
     "name": "stdout",
     "output_type": "stream",
     "text": [
      "(6, 10)\n"
     ]
    }
   ],
   "source": [
    "hidden_state = [[1, 2, 3, 4, 5] for _ in range(6)]\n",
    "cell_state = [[6, 7, 8, 9, 10] for _ in range(6)]\n",
    "\n",
    "test = tf.concat([hidden_state, cell_state], axis=-1)\n",
    "print(test.shape)"
   ]
  },
  {
   "cell_type": "code",
   "execution_count": 4,
   "metadata": {},
   "outputs": [
    {
     "name": "stdout",
     "output_type": "stream",
     "text": [
      "(6, 3, 10)\n"
     ]
    }
   ],
   "source": [
    "n = 3\n",
    "\n",
    "hs = K.repeat(tf.concat([hidden_state, cell_state], axis=-1), n)\n",
    "print(hs.shape)"
   ]
  },
  {
   "cell_type": "code",
   "execution_count": 5,
   "metadata": {},
   "outputs": [
    {
     "name": "stdout",
     "output_type": "stream",
     "text": [
      "(6, 3, 6)\n"
     ]
    }
   ],
   "source": [
    "T = 6\n",
    "\n",
    "print(Dense(T)(hs).shape)"
   ]
  },
  {
   "cell_type": "code",
   "execution_count": 7,
   "metadata": {},
   "outputs": [
    {
     "name": "stdout",
     "output_type": "stream",
     "text": [
      "tf.Tensor(\n",
      "[[[ 1  2  3  4]\n",
      "  [ 3  4  5  6]\n",
      "  [ 5  6  7  8]]\n",
      "\n",
      " [[11 22 33 44]\n",
      "  [33 44 55 66]\n",
      "  [55 66 77 88]]], shape=(2, 3, 4), dtype=int32)\n",
      "(2, 3, 4)\n",
      "\n",
      "tf.Tensor(\n",
      "[[[ 1  3  5]\n",
      "  [ 2  4  6]\n",
      "  [ 3  5  7]\n",
      "  [ 4  6  8]]\n",
      "\n",
      " [[11 33 55]\n",
      "  [22 44 66]\n",
      "  [33 55 77]\n",
      "  [44 66 88]]], shape=(2, 4, 3), dtype=int32)\n",
      "(2, 4, 3)\n"
     ]
    }
   ],
   "source": [
    "X = tf.constant([[[1, 2, 3, 4], [3, 4, 5, 6], [5, 6, 7, 8]], \n",
    "                 [[11, 22, 33, 44], [33, 44, 55, 66], [55, 66, 77, 88]]])\n",
    "\n",
    "print(X)\n",
    "print(X.shape)\n",
    "print()\n",
    "\n",
    "X_tr = Permute((2, 1))(X)\n",
    "print(X_tr)\n",
    "print(X_tr.shape)"
   ]
  }
 ],
 "metadata": {
  "kernelspec": {
   "display_name": "tf29",
   "language": "python",
   "name": "python3"
  },
  "language_info": {
   "codemirror_mode": {
    "name": "ipython",
    "version": 3
   },
   "file_extension": ".py",
   "mimetype": "text/x-python",
   "name": "python",
   "nbconvert_exporter": "python",
   "pygments_lexer": "ipython3",
   "version": "3.9.13"
  },
  "orig_nbformat": 4,
  "vscode": {
   "interpreter": {
    "hash": "fd7346759740b3ddaab326e36a726eebf9960ecb5d8e4cadfd150412872a90be"
   }
  }
 },
 "nbformat": 4,
 "nbformat_minor": 2
}
