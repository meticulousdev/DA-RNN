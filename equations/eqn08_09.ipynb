{
 "cells": [
  {
   "cell_type": "code",
   "execution_count": 1,
   "metadata": {},
   "outputs": [],
   "source": [
    "import random\n",
    "\n",
    "import tensorflow as tf\n",
    "import tensorflow.keras.backend as K\n",
    "\n",
    "from tensorflow.keras.layers import Dense, Permute, Softmax, Activation, Add"
   ]
  },
  {
   "cell_type": "code",
   "execution_count": 2,
   "metadata": {},
   "outputs": [
    {
     "name": "stdout",
     "output_type": "stream",
     "text": [
      "2.6.0\n"
     ]
    }
   ],
   "source": [
    "random.seed(42)\n",
    "\n",
    "print(tf.__version__)\n",
    "tf.random.set_seed(42)"
   ]
  },
  {
   "cell_type": "code",
   "execution_count": 3,
   "metadata": {},
   "outputs": [
    {
     "name": "stdout",
     "output_type": "stream",
     "text": [
      "(7, 6)\n"
     ]
    }
   ],
   "source": [
    "hidden_state = tf.constant([[random.random() for _ in range(3)] for _ in range(7)], dtype=tf.float32)\n",
    "cell_state = tf.constant([[random.random() for _ in range(3)] for _ in range(7)], dtype=tf.float32)\n",
    "\n",
    "print(tf.concat([hidden_state, cell_state], axis=-1).shape)"
   ]
  },
  {
   "cell_type": "code",
   "execution_count": 4,
   "metadata": {},
   "outputs": [
    {
     "name": "stdout",
     "output_type": "stream",
     "text": [
      "(7, 4, 6)\n"
     ]
    }
   ],
   "source": [
    "n = 4\n",
    "\n",
    "hs = K.repeat(tf.concat([hidden_state, cell_state], axis=-1), n)\n",
    "print(hs.shape)"
   ]
  },
  {
   "attachments": {},
   "cell_type": "markdown",
   "metadata": {},
   "source": [
    "- tf.keras.layers.Dense"
   ]
  },
  {
   "cell_type": "code",
   "execution_count": 5,
   "metadata": {},
   "outputs": [
    {
     "name": "stdout",
     "output_type": "stream",
     "text": [
      "(7, 4, 6)\n"
     ]
    }
   ],
   "source": [
    "T = 6\n",
    "\n",
    "print(Dense(T)(hs).shape)"
   ]
  },
  {
   "cell_type": "code",
   "execution_count": 6,
   "metadata": {},
   "outputs": [
    {
     "name": "stdout",
     "output_type": "stream",
     "text": [
      "(7, 5, 4)\n",
      "\n",
      "(7, 4, 5)\n"
     ]
    }
   ],
   "source": [
    "ele01 = [random.random() for _ in range(4)]\n",
    "ele02 = [ele01 for _ in range(5)]\n",
    "ele03 = [ele02 for _ in range(7)]\n",
    "\n",
    "X = tf.constant(ele03, dtype=tf.float32)\n",
    "\n",
    "# print(X)\n",
    "print(X.shape)\n",
    "print()\n",
    "\n",
    "X_tr = Permute((2, 1))(X)\n",
    "# print(X_tr)\n",
    "print(X_tr.shape)"
   ]
  },
  {
   "cell_type": "code",
   "execution_count": 7,
   "metadata": {},
   "outputs": [
    {
     "name": "stdout",
     "output_type": "stream",
     "text": [
      "(7, 4, 6)\n"
     ]
    }
   ],
   "source": [
    "ux = Dense(T)(Permute((2, 1))(X))\n",
    "print(ux.shape)"
   ]
  },
  {
   "cell_type": "code",
   "execution_count": 8,
   "metadata": {},
   "outputs": [
    {
     "name": "stdout",
     "output_type": "stream",
     "text": [
      "tf.Tensor([0.6394268  0.02501076 0.27502933 0.69813937 0.34025052 0.1554795 ], shape=(6,), dtype=float32)\n",
      "tf.Tensor([0.2069508  0.25804803 0.08218247 0.03953016 0.08098594 0.36927783], shape=(6,), dtype=float32)\n"
     ]
    }
   ],
   "source": [
    "print(hs[0, 0, :])\n",
    "\n",
    "print(ux[0, 0, :])"
   ]
  },
  {
   "attachments": {},
   "cell_type": "markdown",
   "metadata": {},
   "source": [
    "### tf.keras.layers.Add\n",
    "\n",
    "- tf.math.tanh\n",
    "\n",
    "- tf.keras.layers.Activation"
   ]
  },
  {
   "cell_type": "code",
   "execution_count": 9,
   "metadata": {},
   "outputs": [
    {
     "name": "stdout",
     "output_type": "stream",
     "text": [
      "(7, 4, 6)\n",
      "tf.Tensor([0.8463776  0.2830588  0.3572118  0.7376695  0.42123646 0.5247573 ], shape=(6,), dtype=float32)\n"
     ]
    }
   ],
   "source": [
    "temp_add = Add()([hs, ux])\n",
    "\n",
    "print(temp_add.shape)\n",
    "\n",
    "print(temp_add[0, 0, :])"
   ]
  },
  {
   "cell_type": "code",
   "execution_count": 10,
   "metadata": {},
   "outputs": [
    {
     "name": "stdout",
     "output_type": "stream",
     "text": [
      "(7, 4, 6)\n"
     ]
    }
   ],
   "source": [
    "tanh_math_add = tf.math.tanh(temp_add)\n",
    "print(tanh_math_add.shape)"
   ]
  },
  {
   "cell_type": "code",
   "execution_count": 11,
   "metadata": {},
   "outputs": [
    {
     "name": "stdout",
     "output_type": "stream",
     "text": [
      "(7, 4, 6)\n"
     ]
    }
   ],
   "source": [
    "tanh_act_add = Activation(activation='tanh')(temp_add)\n",
    "print(tanh_act_add.shape)"
   ]
  },
  {
   "cell_type": "code",
   "execution_count": 12,
   "metadata": {},
   "outputs": [
    {
     "name": "stdout",
     "output_type": "stream",
     "text": [
      "tf.Tensor(0.0, shape=(), dtype=float32)\n"
     ]
    }
   ],
   "source": [
    "diff_tanh_add = tanh_math_add - tanh_act_add\n",
    "print(sum(sum(sum(diff_tanh_add))))"
   ]
  },
  {
   "cell_type": "code",
   "execution_count": 13,
   "metadata": {},
   "outputs": [
    {
     "name": "stdout",
     "output_type": "stream",
     "text": [
      "tf.Tensor(\n",
      "[[-0.2160963  -0.22383213 -0.19618845 -0.21672496]\n",
      " [-0.5211074  -0.52407795 -0.5133451  -0.5213541 ]\n",
      " [-0.1739349  -0.17831427 -0.16177064 -0.1742926 ]\n",
      " [-0.6122389  -0.60170215 -0.6350926  -0.6114142 ]\n",
      " [-0.73237145 -0.71866274 -0.76282454 -0.73129416]\n",
      " [-0.5157484  -0.5086944  -0.53409374 -0.5151692 ]\n",
      " [-0.46531782 -0.47022793 -0.45225328 -0.46572426]], shape=(7, 4), dtype=float32)\n",
      "(7, 4, 1)\n"
     ]
    }
   ],
   "source": [
    "e_add = Dense(1)(tanh_act_add)\n",
    "print(e_add[:, :, 0])\n",
    "print(e_add.shape)"
   ]
  },
  {
   "cell_type": "code",
   "execution_count": 14,
   "metadata": {},
   "outputs": [
    {
     "name": "stdout",
     "output_type": "stream",
     "text": [
      "tf.Tensor(\n",
      "[[1. 1. 1. 1.]\n",
      " [1. 1. 1. 1.]\n",
      " [1. 1. 1. 1.]\n",
      " [1. 1. 1. 1.]\n",
      " [1. 1. 1. 1.]\n",
      " [1. 1. 1. 1.]\n",
      " [1. 1. 1. 1.]], shape=(7, 4), dtype=float32)\n",
      "(7, 4, 1)\n"
     ]
    }
   ],
   "source": [
    "attn_add = Softmax()(e_add)\n",
    "print(attn_add[:, :, 0])\n",
    "print(attn_add.shape)"
   ]
  },
  {
   "cell_type": "code",
   "execution_count": 15,
   "metadata": {},
   "outputs": [
    {
     "name": "stdout",
     "output_type": "stream",
     "text": [
      "tf.Tensor(\n",
      "[[0.24926639 0.24734554 0.25427845 0.24910972]\n",
      " [0.2497141  0.24897341 0.25166    0.2496525 ]\n",
      " [0.24953145 0.24844104 0.25258535 0.2494422 ]\n",
      " [0.25070053 0.25335607 0.24503607 0.2509074 ]\n",
      " [0.25094816 0.25441203 0.24342121 0.25121865]\n",
      " [0.25065923 0.25243363 0.24610272 0.25080445]\n",
      " [0.24951059 0.24828847 0.2527917  0.24940917]], shape=(7, 4), dtype=float32)\n",
      "(7, 1, 4)\n"
     ]
    }
   ],
   "source": [
    "attn_add = Softmax()(Permute((2, 1))(e_add))\n",
    "print(attn_add[:, 0, :])\n",
    "print(attn_add.shape)"
   ]
  },
  {
   "attachments": {},
   "cell_type": "markdown",
   "metadata": {},
   "source": [
    "### tf.concat\n",
    "\n",
    "- tf.math.tanh\n",
    "\n",
    "- tf.keras.layers.Activation"
   ]
  },
  {
   "cell_type": "code",
   "execution_count": 16,
   "metadata": {},
   "outputs": [
    {
     "name": "stdout",
     "output_type": "stream",
     "text": [
      "(7, 4, 12)\n",
      "tf.Tensor(\n",
      "[0.6394268  0.02501076 0.27502933 0.69813937 0.34025052 0.1554795\n",
      " 0.2069508  0.25804803 0.08218247 0.03953016 0.08098594 0.36927783], shape=(12,), dtype=float32)\n"
     ]
    }
   ],
   "source": [
    "temp_concat = tf.concat([hs, ux], axis=-1)\n",
    "\n",
    "print(temp_concat.shape)\n",
    "\n",
    "print(temp_concat[0, 0, :])"
   ]
  },
  {
   "cell_type": "code",
   "execution_count": 17,
   "metadata": {},
   "outputs": [
    {
     "name": "stdout",
     "output_type": "stream",
     "text": [
      "(7, 4, 12)\n"
     ]
    }
   ],
   "source": [
    "tanh_math_concat = tf.math.tanh(temp_concat)\n",
    "print(tanh_math_concat.shape)"
   ]
  },
  {
   "cell_type": "code",
   "execution_count": 18,
   "metadata": {},
   "outputs": [
    {
     "name": "stdout",
     "output_type": "stream",
     "text": [
      "(7, 4, 12)\n"
     ]
    }
   ],
   "source": [
    "tanh_act_concat = Activation(activation='tanh')(temp_concat)\n",
    "print(tanh_act_concat.shape)"
   ]
  },
  {
   "cell_type": "code",
   "execution_count": 19,
   "metadata": {},
   "outputs": [
    {
     "name": "stdout",
     "output_type": "stream",
     "text": [
      "tf.Tensor(0.0, shape=(), dtype=float32)\n"
     ]
    }
   ],
   "source": [
    "diff_tanh = tanh_math_concat - tanh_act_concat\n",
    "print(sum(sum(sum(diff_tanh))))"
   ]
  },
  {
   "cell_type": "code",
   "execution_count": 20,
   "metadata": {},
   "outputs": [
    {
     "name": "stdout",
     "output_type": "stream",
     "text": [
      "tf.Tensor(\n",
      "[[ 0.07945507  0.08792291  0.0620885   0.08009797]\n",
      " [-0.13703339 -0.12856555 -0.15439996 -0.1363905 ]\n",
      " [ 0.02160849  0.03007633  0.00424191  0.02225139]\n",
      " [-0.23938704 -0.2309192  -0.25675362 -0.23874414]\n",
      " [-0.15980005 -0.15133223 -0.17716664 -0.15915717]\n",
      " [-0.0825969  -0.07412907 -0.09996349 -0.08195402]\n",
      " [ 0.09326386  0.1017317   0.07589729  0.09390676]], shape=(7, 4), dtype=float32)\n",
      "(7, 4, 1)\n"
     ]
    }
   ],
   "source": [
    "e_act = Dense(1)(tanh_act_concat)\n",
    "print(e_act[:, :, 0])\n",
    "print(e_act.shape)"
   ]
  },
  {
   "cell_type": "code",
   "execution_count": 21,
   "metadata": {},
   "outputs": [
    {
     "name": "stdout",
     "output_type": "stream",
     "text": [
      "tf.Tensor(\n",
      "[[1. 1. 1. 1.]\n",
      " [1. 1. 1. 1.]\n",
      " [1. 1. 1. 1.]\n",
      " [1. 1. 1. 1.]\n",
      " [1. 1. 1. 1.]\n",
      " [1. 1. 1. 1.]\n",
      " [1. 1. 1. 1.]], shape=(7, 4), dtype=float32)\n",
      "(7, 4, 1)\n"
     ]
    }
   ],
   "source": [
    "attn_input_act = Softmax()(e_act)\n",
    "print(attn_input_act[:, :, 0])\n",
    "print(attn_input_act.shape)"
   ]
  },
  {
   "cell_type": "code",
   "execution_count": 22,
   "metadata": {},
   "outputs": [
    {
     "name": "stdout",
     "output_type": "stream",
     "text": [
      "tf.Tensor(\n",
      "[[0.2505054  0.25263563 0.24619251 0.25066647]\n",
      " [0.2505054  0.25263563 0.24619251 0.25066647]\n",
      " [0.2505054  0.25263563 0.24619251 0.25066647]\n",
      " [0.2505054  0.25263563 0.24619251 0.25066647]\n",
      " [0.2505054  0.25263563 0.24619251 0.25066647]\n",
      " [0.2505054  0.25263563 0.24619251 0.25066647]\n",
      " [0.2505054  0.25263563 0.24619251 0.25066647]], shape=(7, 4), dtype=float32)\n",
      "(7, 1, 4)\n"
     ]
    }
   ],
   "source": [
    "attn_input_act = Softmax()(Permute((2, 1))(e_act))\n",
    "print(attn_input_act[:, 0, :])\n",
    "print(attn_input_act.shape)"
   ]
  }
 ],
 "metadata": {
  "kernelspec": {
   "display_name": "tf26",
   "language": "python",
   "name": "python3"
  },
  "language_info": {
   "codemirror_mode": {
    "name": "ipython",
    "version": 3
   },
   "file_extension": ".py",
   "mimetype": "text/x-python",
   "name": "python",
   "nbconvert_exporter": "python",
   "pygments_lexer": "ipython3",
   "version": "3.9.7"
  },
  "orig_nbformat": 4,
  "vscode": {
   "interpreter": {
    "hash": "ad58c928f09b19558d9145941e1fbb8f707bd1f52c565dc55011bfbe7360f20d"
   }
  }
 },
 "nbformat": 4,
 "nbformat_minor": 2
}
