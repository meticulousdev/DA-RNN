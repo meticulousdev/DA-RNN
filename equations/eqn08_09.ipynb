{
 "cells": [
  {
   "cell_type": "code",
   "execution_count": 1,
   "metadata": {},
   "outputs": [],
   "source": [
    "import random\n",
    "\n",
    "import tensorflow as tf\n",
    "import tensorflow.keras.backend as K\n",
    "\n",
    "from tensorflow.keras.layers import Dense, Permute, Softmax, Activation, Add"
   ]
  },
  {
   "cell_type": "code",
   "execution_count": 2,
   "metadata": {},
   "outputs": [
    {
     "name": "stdout",
     "output_type": "stream",
     "text": [
      "2.6.0\n"
     ]
    }
   ],
   "source": [
    "random.seed(42)\n",
    "\n",
    "print(tf.__version__)\n",
    "tf.random.set_seed(42)"
   ]
  },
  {
   "attachments": {},
   "cell_type": "markdown",
   "metadata": {},
   "source": [
    "- tf.keras.layers.Dense\n",
    "\n",
    "- tf.keras.layers.Permute"
   ]
  },
  {
   "cell_type": "code",
   "execution_count": 3,
   "metadata": {},
   "outputs": [
    {
     "name": "stdout",
     "output_type": "stream",
     "text": [
      "(7, 5, 4)\n",
      "\n",
      "(7, 4, 5)\n"
     ]
    }
   ],
   "source": [
    "ele01 = [random.random() for _ in range(4)]\n",
    "ele02 = [ele01 for _ in range(5)]\n",
    "ele03 = [ele02 for _ in range(7)]\n",
    "\n",
    "X = tf.constant(ele03, dtype=tf.float32)\n",
    "\n",
    "# print(X)\n",
    "print(X.shape)\n",
    "print()\n",
    "\n",
    "X_tr = Permute((2, 1))(X)\n",
    "# print(X_tr)\n",
    "print(X_tr.shape)"
   ]
  },
  {
   "cell_type": "code",
   "execution_count": 4,
   "metadata": {},
   "outputs": [
    {
     "name": "stdout",
     "output_type": "stream",
     "text": [
      "(7, 6)\n"
     ]
    }
   ],
   "source": [
    "hidden_state = tf.constant([[random.random() for _ in range(3)] for _ in range(7)], dtype=tf.float32)\n",
    "cell_state = tf.constant([[random.random() for _ in range(3)] for _ in range(7)], dtype=tf.float32)\n",
    "\n",
    "print(tf.concat([hidden_state, cell_state], axis=-1).shape)"
   ]
  },
  {
   "cell_type": "code",
   "execution_count": 5,
   "metadata": {},
   "outputs": [
    {
     "name": "stdout",
     "output_type": "stream",
     "text": [
      "(7, 4, 6)\n"
     ]
    }
   ],
   "source": [
    "n = X.shape[2]\n",
    "\n",
    "hs = K.repeat(tf.concat([hidden_state, cell_state], axis=-1), n)\n",
    "print(hs.shape)"
   ]
  },
  {
   "cell_type": "code",
   "execution_count": 6,
   "metadata": {},
   "outputs": [
    {
     "name": "stdout",
     "output_type": "stream",
     "text": [
      "(7, 4, 6)\n"
     ]
    }
   ],
   "source": [
    "T = 6\n",
    "\n",
    "print(Dense(T)(hs).shape)"
   ]
  },
  {
   "cell_type": "code",
   "execution_count": 7,
   "metadata": {},
   "outputs": [
    {
     "name": "stdout",
     "output_type": "stream",
     "text": [
      "(7, 4, 6)\n"
     ]
    }
   ],
   "source": [
    "ux = Dense(T)(Permute((2, 1))(X))\n",
    "print(ux.shape)"
   ]
  },
  {
   "cell_type": "code",
   "execution_count": 8,
   "metadata": {},
   "outputs": [
    {
     "name": "stdout",
     "output_type": "stream",
     "text": [
      "tf.Tensor([0.73647124 0.67669946 0.89217955 0.33659455 0.09274584 0.09671637], shape=(6,), dtype=float32)\n",
      "tf.Tensor([0.58065337 0.72401965 0.23058392 0.11091197 0.22722673 1.0361034 ], shape=(6,), dtype=float32)\n"
     ]
    }
   ],
   "source": [
    "print(hs[0, 0, :])\n",
    "\n",
    "print(ux[0, 0, :])"
   ]
  },
  {
   "attachments": {},
   "cell_type": "markdown",
   "metadata": {},
   "source": [
    "### tf.keras.layers.Add\n",
    "\n",
    "- tf.math.tanh\n",
    "\n",
    "- tf.keras.layers.Activation"
   ]
  },
  {
   "cell_type": "code",
   "execution_count": 9,
   "metadata": {},
   "outputs": [
    {
     "name": "stdout",
     "output_type": "stream",
     "text": [
      "(7, 4, 6)\n",
      "tf.Tensor([1.3171246  1.4007192  1.1227635  0.44750652 0.31997257 1.1328198 ], shape=(6,), dtype=float32)\n"
     ]
    }
   ],
   "source": [
    "temp_add = Add()([hs, ux])\n",
    "\n",
    "print(temp_add.shape)\n",
    "\n",
    "print(temp_add[0, 0, :])"
   ]
  },
  {
   "cell_type": "code",
   "execution_count": 10,
   "metadata": {},
   "outputs": [
    {
     "name": "stdout",
     "output_type": "stream",
     "text": [
      "(7, 4, 6)\n"
     ]
    }
   ],
   "source": [
    "tanh_math_add = tf.math.tanh(temp_add)\n",
    "print(tanh_math_add.shape)"
   ]
  },
  {
   "cell_type": "code",
   "execution_count": 11,
   "metadata": {},
   "outputs": [
    {
     "name": "stdout",
     "output_type": "stream",
     "text": [
      "(7, 4, 6)\n"
     ]
    }
   ],
   "source": [
    "tanh_act_add = Activation(activation='tanh')(temp_add)\n",
    "print(tanh_act_add.shape)"
   ]
  },
  {
   "cell_type": "code",
   "execution_count": 12,
   "metadata": {},
   "outputs": [
    {
     "name": "stdout",
     "output_type": "stream",
     "text": [
      "tf.Tensor(0.0, shape=(), dtype=float32)\n"
     ]
    }
   ],
   "source": [
    "diff_tanh_add = tanh_math_add - tanh_act_add\n",
    "print(sum(sum(sum(diff_tanh_add))))"
   ]
  },
  {
   "cell_type": "code",
   "execution_count": 13,
   "metadata": {},
   "outputs": [
    {
     "name": "stdout",
     "output_type": "stream",
     "text": [
      "tf.Tensor(\n",
      "[[-0.4243279  -0.33395013 -0.3741942  -0.36571822]\n",
      " [-0.1903434  -0.23177858 -0.20842505 -0.21312569]\n",
      " [-0.13270655 -0.15531427 -0.13563734 -0.13891803]\n",
      " [-0.4147418  -0.46678478 -0.44110227 -0.44636545]\n",
      " [-0.5664377  -0.6363906  -0.6064062  -0.61289597]\n",
      " [-0.5827408  -0.6040077  -0.602988   -0.6042776 ]\n",
      " [-0.5466778  -0.6104355  -0.5848892  -0.5904835 ]], shape=(7, 4), dtype=float32)\n",
      "(7, 4, 1)\n"
     ]
    }
   ],
   "source": [
    "e_add = Dense(1)(tanh_act_add)\n",
    "print(e_add[:, :, 0])\n",
    "print(e_add.shape)"
   ]
  },
  {
   "cell_type": "code",
   "execution_count": 14,
   "metadata": {},
   "outputs": [
    {
     "name": "stdout",
     "output_type": "stream",
     "text": [
      "tf.Tensor(\n",
      "[[1. 1. 1. 1.]\n",
      " [1. 1. 1. 1.]\n",
      " [1. 1. 1. 1.]\n",
      " [1. 1. 1. 1.]\n",
      " [1. 1. 1. 1.]\n",
      " [1. 1. 1. 1.]\n",
      " [1. 1. 1. 1.]], shape=(7, 4), dtype=float32)\n",
      "(7, 4, 1)\n"
     ]
    }
   ],
   "source": [
    "attn_add = Softmax()(e_add)\n",
    "print(attn_add[:, :, 0])\n",
    "print(attn_add.shape)"
   ]
  },
  {
   "cell_type": "code",
   "execution_count": 15,
   "metadata": {},
   "outputs": [
    {
     "name": "stdout",
     "output_type": "stream",
     "text": [
      "tf.Tensor(\n",
      "[[0.23773518 0.26022202 0.24995755 0.25208518]\n",
      " [0.25516924 0.24481231 0.25059682 0.24942161]\n",
      " [0.25198263 0.2463498  0.2512452  0.2504223 ]\n",
      " [0.25692785 0.24389854 0.2502436  0.24892999]\n",
      " [0.2598846  0.2423262  0.24970224 0.24808699]\n",
      " [0.25396132 0.24861737 0.24887103 0.24855028]\n",
      " [0.25920957 0.24319881 0.24949168 0.24809985]], shape=(7, 4), dtype=float32)\n",
      "(7, 1, 4)\n"
     ]
    }
   ],
   "source": [
    "attn_add = Softmax()(Permute((2, 1))(e_add))\n",
    "print(attn_add[:, 0, :])\n",
    "print(attn_add.shape)"
   ]
  },
  {
   "attachments": {},
   "cell_type": "markdown",
   "metadata": {},
   "source": [
    "### tf.concat\n",
    "\n",
    "- tf.math.tanh\n",
    "\n",
    "- tf.keras.layers.Activation"
   ]
  },
  {
   "cell_type": "code",
   "execution_count": 16,
   "metadata": {},
   "outputs": [
    {
     "name": "stdout",
     "output_type": "stream",
     "text": [
      "(7, 4, 12)\n",
      "tf.Tensor(\n",
      "[0.73647124 0.67669946 0.89217955 0.33659455 0.09274584 0.09671637\n",
      " 0.58065337 0.72401965 0.23058392 0.11091197 0.22722673 1.0361034 ], shape=(12,), dtype=float32)\n"
     ]
    }
   ],
   "source": [
    "temp_concat = tf.concat([hs, ux], axis=-1)\n",
    "\n",
    "print(temp_concat.shape)\n",
    "\n",
    "print(temp_concat[0, 0, :])"
   ]
  },
  {
   "cell_type": "code",
   "execution_count": 17,
   "metadata": {},
   "outputs": [
    {
     "name": "stdout",
     "output_type": "stream",
     "text": [
      "(7, 4, 12)\n"
     ]
    }
   ],
   "source": [
    "tanh_math_concat = tf.math.tanh(temp_concat)\n",
    "print(tanh_math_concat.shape)"
   ]
  },
  {
   "cell_type": "code",
   "execution_count": 18,
   "metadata": {},
   "outputs": [
    {
     "name": "stdout",
     "output_type": "stream",
     "text": [
      "(7, 4, 12)\n"
     ]
    }
   ],
   "source": [
    "tanh_act_concat = Activation(activation='tanh')(temp_concat)\n",
    "print(tanh_act_concat.shape)"
   ]
  },
  {
   "cell_type": "code",
   "execution_count": 19,
   "metadata": {},
   "outputs": [
    {
     "name": "stdout",
     "output_type": "stream",
     "text": [
      "tf.Tensor(0.0, shape=(), dtype=float32)\n"
     ]
    }
   ],
   "source": [
    "diff_tanh = tanh_math_concat - tanh_act_concat\n",
    "print(sum(sum(sum(diff_tanh))))"
   ]
  },
  {
   "cell_type": "code",
   "execution_count": 20,
   "metadata": {},
   "outputs": [
    {
     "name": "stdout",
     "output_type": "stream",
     "text": [
      "tf.Tensor(\n",
      "[[ 0.1815817   0.08705606  0.11656632  0.10954158]\n",
      " [-0.22645688 -0.32098252 -0.29147226 -0.298497  ]\n",
      " [-0.18919656 -0.28372222 -0.25421193 -0.2612367 ]\n",
      " [-0.1520116  -0.24653722 -0.21702695 -0.2240517 ]\n",
      " [-0.17199141 -0.26651704 -0.23700678 -0.24403152]\n",
      " [-0.06787258 -0.16239825 -0.13288797 -0.13991272]\n",
      " [ 0.17506585  0.08054021  0.11005048  0.10302573]], shape=(7, 4), dtype=float32)\n",
      "(7, 4, 1)\n"
     ]
    }
   ],
   "source": [
    "e_act = Dense(1)(tanh_act_concat)\n",
    "print(e_act[:, :, 0])\n",
    "print(e_act.shape)"
   ]
  },
  {
   "cell_type": "code",
   "execution_count": 21,
   "metadata": {},
   "outputs": [
    {
     "name": "stdout",
     "output_type": "stream",
     "text": [
      "tf.Tensor(\n",
      "[[1. 1. 1. 1.]\n",
      " [1. 1. 1. 1.]\n",
      " [1. 1. 1. 1.]\n",
      " [1. 1. 1. 1.]\n",
      " [1. 1. 1. 1.]\n",
      " [1. 1. 1. 1.]\n",
      " [1. 1. 1. 1.]], shape=(7, 4), dtype=float32)\n",
      "(7, 4, 1)\n"
     ]
    }
   ],
   "source": [
    "attn_input_act = Softmax()(e_act)\n",
    "print(attn_input_act[:, :, 0])\n",
    "print(attn_input_act.shape)"
   ]
  },
  {
   "cell_type": "code",
   "execution_count": 22,
   "metadata": {},
   "outputs": [
    {
     "name": "stdout",
     "output_type": "stream",
     "text": [
      "tf.Tensor(\n",
      "[[0.2647358  0.24085778 0.24807149 0.24633494]\n",
      " [0.2647358  0.24085778 0.24807149 0.24633496]\n",
      " [0.2647358  0.24085777 0.24807149 0.24633494]\n",
      " [0.2647358  0.24085778 0.24807149 0.24633496]\n",
      " [0.2647358  0.24085778 0.24807149 0.24633496]\n",
      " [0.2647358  0.24085777 0.24807149 0.24633494]\n",
      " [0.2647358  0.24085778 0.24807149 0.24633496]], shape=(7, 4), dtype=float32)\n",
      "(7, 1, 4)\n"
     ]
    }
   ],
   "source": [
    "attn_input_act = Softmax()(Permute((2, 1))(e_act))\n",
    "print(attn_input_act[:, 0, :])\n",
    "print(attn_input_act.shape)"
   ]
  }
 ],
 "metadata": {
  "kernelspec": {
   "display_name": "tf26",
   "language": "python",
   "name": "python3"
  },
  "language_info": {
   "codemirror_mode": {
    "name": "ipython",
    "version": 3
   },
   "file_extension": ".py",
   "mimetype": "text/x-python",
   "name": "python",
   "nbconvert_exporter": "python",
   "pygments_lexer": "ipython3",
   "version": "3.9.7"
  },
  "orig_nbformat": 4,
  "vscode": {
   "interpreter": {
    "hash": "ad58c928f09b19558d9145941e1fbb8f707bd1f52c565dc55011bfbe7360f20d"
   }
  }
 },
 "nbformat": 4,
 "nbformat_minor": 2
}
