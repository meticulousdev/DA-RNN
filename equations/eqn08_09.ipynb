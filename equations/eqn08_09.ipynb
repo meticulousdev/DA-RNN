{
 "cells": [
  {
   "cell_type": "code",
   "execution_count": 1,
   "metadata": {},
   "outputs": [],
   "source": [
    "import tensorflow as tf\n",
    "import tensorflow.keras.backend as K\n",
    "\n",
    "from tensorflow.keras.layers import Dense, Permute, Softmax, Activation, Add"
   ]
  },
  {
   "cell_type": "code",
   "execution_count": 2,
   "metadata": {},
   "outputs": [
    {
     "name": "stdout",
     "output_type": "stream",
     "text": [
      "2.6.0\n"
     ]
    }
   ],
   "source": [
    "print(tf.__version__)\n",
    "\n",
    "tf.random.set_seed(42)"
   ]
  },
  {
   "cell_type": "code",
   "execution_count": 3,
   "metadata": {},
   "outputs": [
    {
     "name": "stdout",
     "output_type": "stream",
     "text": [
      "(7, 6)\n"
     ]
    }
   ],
   "source": [
    "hidden_state = tf.constant([[1, 2, 3] for _ in range(7)], dtype=tf.float32)\n",
    "cell_state = tf.constant([[6, 7, 8] for _ in range(7)], dtype=tf.float32)\n",
    "\n",
    "print(tf.concat([hidden_state, cell_state], axis=-1).shape)"
   ]
  },
  {
   "cell_type": "code",
   "execution_count": 4,
   "metadata": {},
   "outputs": [
    {
     "name": "stdout",
     "output_type": "stream",
     "text": [
      "(7, 4, 6)\n"
     ]
    }
   ],
   "source": [
    "n = 4\n",
    "\n",
    "hs = K.repeat(tf.concat([hidden_state, cell_state], axis=-1), n)\n",
    "print(hs.shape)"
   ]
  },
  {
   "attachments": {},
   "cell_type": "markdown",
   "metadata": {},
   "source": [
    "- tf.keras.layers.Dense"
   ]
  },
  {
   "cell_type": "code",
   "execution_count": 5,
   "metadata": {},
   "outputs": [
    {
     "name": "stdout",
     "output_type": "stream",
     "text": [
      "(7, 4, 6)\n"
     ]
    }
   ],
   "source": [
    "T = 6\n",
    "\n",
    "print(Dense(T)(hs).shape)"
   ]
  },
  {
   "cell_type": "code",
   "execution_count": 6,
   "metadata": {},
   "outputs": [
    {
     "name": "stdout",
     "output_type": "stream",
     "text": [
      "(7, 5, 4)\n",
      "\n",
      "(7, 4, 5)\n"
     ]
    }
   ],
   "source": [
    "X = tf.constant([[[1, 2, 3, 4], [3, 4, 5, 6], [5, 6, 7, 8],\n",
    "                  [9, 10, 11, 12], [11, 12, 13, 14]] for _ in range(7)], dtype=tf.float32)\n",
    "\n",
    "# print(X)\n",
    "print(X.shape)\n",
    "print()\n",
    "\n",
    "X_tr = Permute((2, 1))(X)\n",
    "# print(X_tr)\n",
    "print(X_tr.shape)"
   ]
  },
  {
   "cell_type": "code",
   "execution_count": 7,
   "metadata": {},
   "outputs": [
    {
     "name": "stdout",
     "output_type": "stream",
     "text": [
      "(7, 4, 6)\n"
     ]
    }
   ],
   "source": [
    "ux = Dense(T)(Permute((2, 1))(X))\n",
    "print(ux.shape)"
   ]
  },
  {
   "cell_type": "code",
   "execution_count": 8,
   "metadata": {},
   "outputs": [
    {
     "name": "stdout",
     "output_type": "stream",
     "text": [
      "tf.Tensor([1. 2. 3. 6. 7. 8.], shape=(6,), dtype=float32)\n",
      "tf.Tensor([ 5.4773407  8.245257  -1.4534266  2.8034296  4.5096674 11.279674 ], shape=(6,), dtype=float32)\n"
     ]
    }
   ],
   "source": [
    "print(hs[0, 0, :])\n",
    "\n",
    "print(ux[0, 0, :])"
   ]
  },
  {
   "attachments": {},
   "cell_type": "markdown",
   "metadata": {},
   "source": [
    "### tf.keras.layers.Add\n",
    "\n",
    "- tf.math.tanh\n",
    "\n",
    "- tf.keras.layers.Activation"
   ]
  },
  {
   "cell_type": "code",
   "execution_count": 9,
   "metadata": {},
   "outputs": [
    {
     "name": "stdout",
     "output_type": "stream",
     "text": [
      "(7, 4, 6)\n",
      "tf.Tensor([ 6.4773407 10.245257   1.5465734  8.80343   11.509667  19.279675 ], shape=(6,), dtype=float32)\n"
     ]
    }
   ],
   "source": [
    "temp_add = Add()([hs, ux])\n",
    "\n",
    "print(temp_add.shape)\n",
    "\n",
    "print(temp_add[0, 0, :])"
   ]
  },
  {
   "cell_type": "code",
   "execution_count": 10,
   "metadata": {},
   "outputs": [
    {
     "name": "stdout",
     "output_type": "stream",
     "text": [
      "(7, 4, 6)\n"
     ]
    }
   ],
   "source": [
    "tanh_math_add = tf.math.tanh(temp_add)\n",
    "print(tanh_math_add.shape)"
   ]
  },
  {
   "cell_type": "code",
   "execution_count": 11,
   "metadata": {},
   "outputs": [
    {
     "name": "stdout",
     "output_type": "stream",
     "text": [
      "(7, 4, 6)\n"
     ]
    }
   ],
   "source": [
    "tanh_act_add = Activation(activation='tanh')(temp_add)\n",
    "print(tanh_act_add.shape)"
   ]
  },
  {
   "cell_type": "code",
   "execution_count": 12,
   "metadata": {},
   "outputs": [
    {
     "name": "stdout",
     "output_type": "stream",
     "text": [
      "tf.Tensor(0.0, shape=(), dtype=float32)\n"
     ]
    }
   ],
   "source": [
    "diff_tanh_add = tanh_math_add - tanh_act_add\n",
    "print(sum(sum(sum(diff_tanh_add))))"
   ]
  },
  {
   "cell_type": "code",
   "execution_count": 13,
   "metadata": {},
   "outputs": [
    {
     "name": "stdout",
     "output_type": "stream",
     "text": [
      "tf.Tensor(\n",
      "[[-0.62823135 -0.66721845 -0.68682265 -0.6965132 ]\n",
      " [-0.62823135 -0.66721845 -0.68682265 -0.6965132 ]\n",
      " [-0.62823135 -0.66721845 -0.68682265 -0.6965132 ]\n",
      " [-0.62823135 -0.66721845 -0.68682265 -0.6965132 ]\n",
      " [-0.62823135 -0.66721845 -0.68682265 -0.6965132 ]\n",
      " [-0.62823135 -0.66721845 -0.68682265 -0.6965132 ]\n",
      " [-0.62823135 -0.66721845 -0.68682265 -0.6965132 ]], shape=(7, 4), dtype=float32)\n",
      "(7, 4, 1)\n"
     ]
    }
   ],
   "source": [
    "e_add = Dense(1)(tanh_act_add)\n",
    "print(e_add[:, :, 0])\n",
    "print(e_add.shape)"
   ]
  },
  {
   "cell_type": "code",
   "execution_count": 14,
   "metadata": {},
   "outputs": [
    {
     "name": "stdout",
     "output_type": "stream",
     "text": [
      "tf.Tensor(\n",
      "[[1. 1. 1. 1.]\n",
      " [1. 1. 1. 1.]\n",
      " [1. 1. 1. 1.]\n",
      " [1. 1. 1. 1.]\n",
      " [1. 1. 1. 1.]\n",
      " [1. 1. 1. 1.]\n",
      " [1. 1. 1. 1.]], shape=(7, 4), dtype=float32)\n",
      "(7, 4, 1)\n"
     ]
    }
   ],
   "source": [
    "attn_add = Softmax()(e_add)\n",
    "print(attn_add[:, :, 0])\n",
    "print(attn_add.shape)"
   ]
  },
  {
   "cell_type": "code",
   "execution_count": 15,
   "metadata": {},
   "outputs": [
    {
     "name": "stdout",
     "output_type": "stream",
     "text": [
      "tf.Tensor(\n",
      "[[0.26049453 0.25053403 0.24567033 0.24330117]\n",
      " [0.26049453 0.25053403 0.24567033 0.24330117]\n",
      " [0.26049453 0.25053403 0.24567033 0.24330117]\n",
      " [0.26049453 0.25053403 0.24567033 0.24330117]\n",
      " [0.26049453 0.25053403 0.24567033 0.24330117]\n",
      " [0.26049453 0.25053403 0.24567033 0.24330117]\n",
      " [0.26049453 0.25053403 0.24567033 0.24330117]], shape=(7, 4), dtype=float32)\n",
      "(7, 1, 4)\n"
     ]
    }
   ],
   "source": [
    "attn_add = Softmax()(Permute((2, 1))(e_add))\n",
    "print(attn_add[:, 0, :])\n",
    "print(attn_add.shape)"
   ]
  },
  {
   "attachments": {},
   "cell_type": "markdown",
   "metadata": {},
   "source": [
    "### tf.concat\n",
    "\n",
    "- tf.math.tanh\n",
    "\n",
    "- tf.keras.layers.Activation"
   ]
  },
  {
   "cell_type": "code",
   "execution_count": 16,
   "metadata": {},
   "outputs": [
    {
     "name": "stdout",
     "output_type": "stream",
     "text": [
      "(7, 4, 12)\n",
      "tf.Tensor(\n",
      "[ 1.         2.         3.         6.         7.         8.\n",
      "  5.4773407  8.245257  -1.4534266  2.8034296  4.5096674 11.279674 ], shape=(12,), dtype=float32)\n"
     ]
    }
   ],
   "source": [
    "temp_concat = tf.concat([hs, ux], axis=-1)\n",
    "\n",
    "print(temp_concat.shape)\n",
    "\n",
    "print(temp_concat[0, 0, :])"
   ]
  },
  {
   "cell_type": "code",
   "execution_count": 17,
   "metadata": {},
   "outputs": [
    {
     "name": "stdout",
     "output_type": "stream",
     "text": [
      "(7, 4, 12)\n"
     ]
    }
   ],
   "source": [
    "tanh_math_concat = tf.math.tanh(temp_concat)\n",
    "print(tanh_math_concat.shape)"
   ]
  },
  {
   "cell_type": "code",
   "execution_count": 18,
   "metadata": {},
   "outputs": [
    {
     "name": "stdout",
     "output_type": "stream",
     "text": [
      "(7, 4, 12)\n"
     ]
    }
   ],
   "source": [
    "tanh_act_concat = Activation(activation='tanh')(temp_concat)\n",
    "print(tanh_act_concat.shape)"
   ]
  },
  {
   "cell_type": "code",
   "execution_count": 19,
   "metadata": {},
   "outputs": [
    {
     "name": "stdout",
     "output_type": "stream",
     "text": [
      "tf.Tensor(0.0, shape=(), dtype=float32)\n"
     ]
    }
   ],
   "source": [
    "diff_tanh = tanh_math_concat - tanh_act_concat\n",
    "print(sum(sum(sum(diff_tanh))))"
   ]
  },
  {
   "cell_type": "code",
   "execution_count": 20,
   "metadata": {},
   "outputs": [
    {
     "name": "stdout",
     "output_type": "stream",
     "text": [
      "tf.Tensor(\n",
      "[[0.83395565 0.80961    0.76546884 0.69632435]\n",
      " [0.83395565 0.80961    0.76546884 0.69632435]\n",
      " [0.83395565 0.80961    0.76546884 0.69632435]\n",
      " [0.83395565 0.80961    0.76546884 0.69632435]\n",
      " [0.83395565 0.80961    0.76546884 0.69632435]\n",
      " [0.83395565 0.80961    0.76546884 0.69632435]\n",
      " [0.83395565 0.80961    0.76546884 0.69632435]], shape=(7, 4), dtype=float32)\n",
      "(7, 4, 1)\n"
     ]
    }
   ],
   "source": [
    "e_act = Dense(1)(tanh_act_concat)\n",
    "print(e_act[:, :, 0])\n",
    "print(e_act.shape)"
   ]
  },
  {
   "cell_type": "code",
   "execution_count": 21,
   "metadata": {},
   "outputs": [
    {
     "name": "stdout",
     "output_type": "stream",
     "text": [
      "tf.Tensor(\n",
      "[[1. 1. 1. 1.]\n",
      " [1. 1. 1. 1.]\n",
      " [1. 1. 1. 1.]\n",
      " [1. 1. 1. 1.]\n",
      " [1. 1. 1. 1.]\n",
      " [1. 1. 1. 1.]\n",
      " [1. 1. 1. 1.]], shape=(7, 4), dtype=float32)\n",
      "(7, 4, 1)\n"
     ]
    }
   ],
   "source": [
    "attn_input_act = Softmax()(e_act)\n",
    "print(attn_input_act[:, :, 0])\n",
    "print(attn_input_act.shape)"
   ]
  },
  {
   "cell_type": "code",
   "execution_count": 22,
   "metadata": {},
   "outputs": [
    {
     "name": "stdout",
     "output_type": "stream",
     "text": [
      "tf.Tensor(\n",
      "[[0.26446813 0.25810724 0.24696186 0.23046279]\n",
      " [0.26446813 0.25810724 0.24696186 0.23046279]\n",
      " [0.26446813 0.25810724 0.24696186 0.23046279]\n",
      " [0.26446813 0.25810724 0.24696186 0.23046279]\n",
      " [0.26446813 0.25810724 0.24696186 0.23046279]\n",
      " [0.26446813 0.25810724 0.24696186 0.23046279]\n",
      " [0.26446813 0.25810724 0.24696186 0.23046279]], shape=(7, 4), dtype=float32)\n",
      "(7, 1, 4)\n"
     ]
    }
   ],
   "source": [
    "attn_input_act = Softmax()(Permute((2, 1))(e_act))\n",
    "print(attn_input_act[:, 0, :])\n",
    "print(attn_input_act.shape)"
   ]
  }
 ],
 "metadata": {
  "kernelspec": {
   "display_name": "tf26",
   "language": "python",
   "name": "python3"
  },
  "language_info": {
   "codemirror_mode": {
    "name": "ipython",
    "version": 3
   },
   "file_extension": ".py",
   "mimetype": "text/x-python",
   "name": "python",
   "nbconvert_exporter": "python",
   "pygments_lexer": "ipython3",
   "version": "3.9.7"
  },
  "orig_nbformat": 4,
  "vscode": {
   "interpreter": {
    "hash": "ad58c928f09b19558d9145941e1fbb8f707bd1f52c565dc55011bfbe7360f20d"
   }
  }
 },
 "nbformat": 4,
 "nbformat_minor": 2
}
