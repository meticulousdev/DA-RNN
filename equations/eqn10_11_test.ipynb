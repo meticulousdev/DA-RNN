{
 "cells": [
  {
   "cell_type": "code",
   "execution_count": 20,
   "metadata": {},
   "outputs": [],
   "source": [
    "from input_attention import *\n",
    "\n",
    "from tensorflow.keras.layers import LSTM"
   ]
  },
  {
   "cell_type": "code",
   "execution_count": 21,
   "metadata": {},
   "outputs": [],
   "source": [
    "# TODO\n",
    "# self.input_lstm = LSTM(m, return_state=True)\n",
    "# self.input_attention = InputAttention(T)\n",
    "#\n",
    "# hidden_state와 cell_state의 업데이트를 반영할 수 있는 코드"
   ]
  },
  {
   "cell_type": "code",
   "execution_count": 22,
   "metadata": {},
   "outputs": [],
   "source": [
    "X_encoded = []"
   ]
  },
  {
   "cell_type": "code",
   "execution_count": 23,
   "metadata": {},
   "outputs": [
    {
     "name": "stdout",
     "output_type": "stream",
     "text": [
      "(7, 1, 4)\n",
      "(7, 1, 4)\n",
      "(7, 1, 4)\n",
      "(7, 1, 4)\n",
      "(7, 1, 4)\n"
     ]
    }
   ],
   "source": [
    "for t in range(T):\n",
    "    temp = X[:, None, t, :]\n",
    "    print(temp.shape)"
   ]
  },
  {
   "cell_type": "code",
   "execution_count": 24,
   "metadata": {},
   "outputs": [
    {
     "name": "stdout",
     "output_type": "stream",
     "text": [
      "(7, 1, 4)\n"
     ]
    }
   ],
   "source": [
    "# TODO: multiply and Dense?\n",
    "# DONE: Dense - parameters to learn\n",
    "t = 1\n",
    "X_tilde_t = tf.multiply(attn, X[:, None, t, :])\n",
    "print(X_tilde_t.shape)"
   ]
  },
  {
   "cell_type": "code",
   "execution_count": 26,
   "metadata": {},
   "outputs": [],
   "source": [
    "hidden_state, _, cell_state = LSTM(m, return_state=True)(X_tilde_t, initial_state=[hidden_state, cell_state])\n",
    "X_encoded.append(hidden_state[:, None, :])"
   ]
  },
  {
   "cell_type": "code",
   "execution_count": 27,
   "metadata": {},
   "outputs": [
    {
     "data": {
      "text/plain": [
       "<tf.Tensor: shape=(7, 1, 3), dtype=float32, numpy=\n",
       "array([[[0.23298357, 0.09410081, 0.2549226 ]],\n",
       "\n",
       "       [[0.23298357, 0.09410081, 0.2549226 ]],\n",
       "\n",
       "       [[0.23298357, 0.09410081, 0.2549226 ]],\n",
       "\n",
       "       [[0.23298357, 0.09410081, 0.2549226 ]],\n",
       "\n",
       "       [[0.23298357, 0.09410081, 0.2549226 ]],\n",
       "\n",
       "       [[0.23298357, 0.09410081, 0.2549226 ]],\n",
       "\n",
       "       [[0.23298357, 0.09410081, 0.2549226 ]]], dtype=float32)>"
      ]
     },
     "execution_count": 27,
     "metadata": {},
     "output_type": "execute_result"
    }
   ],
   "source": [
    "tf.concat(X_encoded, axis=1)"
   ]
  },
  {
   "cell_type": "code",
   "execution_count": null,
   "metadata": {},
   "outputs": [],
   "source": []
  }
 ],
 "metadata": {
  "kernelspec": {
   "display_name": "tf",
   "language": "python",
   "name": "python3"
  },
  "language_info": {
   "codemirror_mode": {
    "name": "ipython",
    "version": 3
   },
   "file_extension": ".py",
   "mimetype": "text/x-python",
   "name": "python",
   "nbconvert_exporter": "python",
   "pygments_lexer": "ipython3",
   "version": "3.10.8 | packaged by conda-forge | (main, Nov 22 2022, 08:25:29) [Clang 14.0.6 ]"
  },
  "orig_nbformat": 4,
  "vscode": {
   "interpreter": {
    "hash": "52ee2977380704a66854748a73250e0671a9318bd5b3fd45a3df9f851ae61629"
   }
  }
 },
 "nbformat": 4,
 "nbformat_minor": 2
}
